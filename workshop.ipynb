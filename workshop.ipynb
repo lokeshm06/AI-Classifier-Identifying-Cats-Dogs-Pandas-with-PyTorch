{
 "cells": [
  {
   "cell_type": "code",
   "execution_count": 1,
   "id": "98ee65c1-b45a-4d15-ae4d-7cbdd6639aa4",
   "metadata": {},
   "outputs": [
    {
     "name": "stdout",
     "output_type": "stream",
     "text": [
      "✅ Data split completed! Check the 'split_dataset' folder.\n"
     ]
    }
   ],
   "source": [
    "import os\n",
    "import shutil\n",
    "import random\n",
    "\n",
    "# Path to your dataset (update this)\n",
    "dataset_dir = \"./animals\"\n",
    "output_dir = \"dataset\"\n",
    "\n",
    "# Train/Test split ratio\n",
    "train_ratio = 0.8  # 80% train, 20% test\n",
    "\n",
    "# Make output folders\n",
    "for split in [\"train\", \"test\"]:\n",
    "    for category in os.listdir(dataset_dir):\n",
    "        os.makedirs(os.path.join(output_dir, split, category), exist_ok=True)\n",
    "\n",
    "# Split data\n",
    "for category in os.listdir(dataset_dir):\n",
    "    files = os.listdir(os.path.join(dataset_dir, category))\n",
    "    random.shuffle(files)\n",
    "\n",
    "    total = len(files)\n",
    "    train_end = int(train_ratio * total)\n",
    "\n",
    "    train_files = files[:train_end]\n",
    "    test_files = files[train_end:]\n",
    "\n",
    "    for f in train_files:\n",
    "        shutil.copy(os.path.join(dataset_dir, category, f),\n",
    "                    os.path.join(output_dir, \"train\", category, f))\n",
    "\n",
    "    for f in test_files:\n",
    "        shutil.copy(os.path.join(dataset_dir, category, f),\n",
    "                    os.path.join(output_dir, \"test\", category, f))\n",
    "\n",
    "print(\"✅ Data split completed! Check the 'split_dataset' folder.\")\n"
   ]
  },
  {
   "cell_type": "code",
   "execution_count": 1,
   "id": "349b6712-da2d-4234-8d3a-1a374412ec34",
   "metadata": {},
   "outputs": [],
   "source": [
    "# ==========================================\n",
    "# 1. IMPORTS & SETUP\n",
    "# ==========================================\n",
    "import torch\n",
    "import torch.nn as nn\n",
    "import torch.optim as optim\n",
    "from torchvision import datasets, transforms, models\n",
    "from torch.utils.data import DataLoader\n",
    "import numpy as np\n",
    "import matplotlib.pyplot as plt\n",
    "from PIL import Image\n",
    "from sklearn.metrics import confusion_matrix, ConfusionMatrixDisplay"
   ]
  },
  {
   "cell_type": "code",
   "execution_count": 2,
   "id": "131d2784-2c81-46d0-9e1d-10c986517186",
   "metadata": {},
   "outputs": [],
   "source": [
    "torch.manual_seed(42)\n",
    "np.random.seed(42)"
   ]
  },
  {
   "cell_type": "code",
   "execution_count": 3,
   "id": "55579f5f-ce6f-465c-9a84-dab38bf960ed",
   "metadata": {},
   "outputs": [],
   "source": [
    "data_dir = \"./dataset\"  \n",
    "# Image transformations\n",
    "train_transforms = transforms.Compose([\n",
    "    transforms.RandomResizedCrop(224),\n",
    "    transforms.RandomHorizontalFlip(),\n",
    "    transforms.ToTensor(),\n",
    "    transforms.Normalize([0.485, 0.456, 0.406],\n",
    "                         [0.229, 0.224, 0.225])\n",
    "])\n",
    "\n",
    "test_transforms = transforms.Compose([\n",
    "    transforms.Resize((224, 224)),\n",
    "    transforms.ToTensor(),\n",
    "    transforms.Normalize([0.485, 0.456, 0.406],\n",
    "                         [0.229, 0.224, 0.225])\n",
    "])"
   ]
  },
  {
   "cell_type": "code",
   "execution_count": 4,
   "id": "7703d944-c112-4dfc-9c4b-cca93be32a62",
   "metadata": {},
   "outputs": [
    {
     "name": "stdout",
     "output_type": "stream",
     "text": [
      "Classes: ['cats', 'dogs', 'panda']\n"
     ]
    }
   ],
   "source": [
    "train_data = datasets.ImageFolder(data_dir + \"/train\", transform=train_transforms)\n",
    "test_data  = datasets.ImageFolder(data_dir + \"/test\", transform=test_transforms)\n",
    "\n",
    "train_loader = DataLoader(train_data, batch_size=32, shuffle=True)\n",
    "test_loader  = DataLoader(test_data, batch_size=32, shuffle=False)\n",
    "\n",
    "class_names = train_data.classes\n",
    "print(\"Classes:\", class_names)"
   ]
  },
  {
   "cell_type": "code",
   "execution_count": 9,
   "id": "ced2af05-08ff-488c-947e-0e3e74467ff2",
   "metadata": {},
   "outputs": [
    {
     "name": "stdout",
     "output_type": "stream",
     "text": [
      "Using device: cpu\n"
     ]
    }
   ],
   "source": [
    "import torch\n",
    "import torchvision.models as models\n",
    "\n",
    "# 1. Device Selection (Assumes 'device' is set correctly)\n",
    "device = torch.device(\"cuda\" if torch.cuda.is_available() else \"cpu\")\n",
    "print(\"Using device:\", device)\n",
    "\n",
    "# 2. Model Initialization\n",
    "model = models.resnet18(pretrained=True)\n",
    "\n",
    "# 💥 NEW LINE: Move the model to the selected device 💥\n",
    "model.to(device)\n",
    "\n",
    "# Freeze backbone\n",
    "for param in model.parameters():\n",
    "    param.requires_grad = False\n",
    "\n",
    "# The model and its parameters are now on the GPU (if available) or CPU."
   ]
  },
  {
   "cell_type": "code",
   "execution_count": 7,
   "id": "bb795853-b3ca-49a7-a8fe-7f4fc0425bb8",
   "metadata": {},
   "outputs": [
    {
     "name": "stdout",
     "output_type": "stream",
     "text": [
      "Using device: cpu\n"
     ]
    },
    {
     "name": "stderr",
     "output_type": "stream",
     "text": [
      "C:\\Users\\admin\\.conda\\envs\\deep\\Lib\\site-packages\\torchvision\\models\\_utils.py:208: UserWarning: The parameter 'pretrained' is deprecated since 0.13 and may be removed in the future, please use 'weights' instead.\n",
      "  warnings.warn(\n",
      "C:\\Users\\admin\\.conda\\envs\\deep\\Lib\\site-packages\\torchvision\\models\\_utils.py:223: UserWarning: Arguments other than a weight enum or `None` for 'weights' are deprecated since 0.13 and may be removed in the future. The current behavior is equivalent to passing `weights=ResNet18_Weights.IMAGENET1K_V1`. You can also use `weights=ResNet18_Weights.DEFAULT` to get the most up-to-date weights.\n",
      "  warnings.warn(msg)\n"
     ]
    }
   ],
   "source": [
    "device = torch.device(\"cuda\" if torch.cuda.is_available() else \"cpu\")\n",
    "print(\"Using device:\", device)\n",
    "\n",
    "model = models.resnet18(pretrained=True)\n",
    "\n",
    "# Freeze backbone\n",
    "for param in model.parameters():\n",
    "    param.requires_grad = False"
   ]
  },
  {
   "cell_type": "code",
   "execution_count": 10,
   "id": "69c3c8aa-5c5c-4bef-90c5-cd16cb184799",
   "metadata": {},
   "outputs": [],
   "source": [
    "in_features = model.fc.in_features\n",
    "model.fc = nn.Sequential(\n",
    "    nn.Linear(in_features, 256),\n",
    "    nn.ReLU(),\n",
    "    nn.Dropout(0.5),\n",
    "    nn.Linear(256, len(class_names))  # 3 classes\n",
    ")\n",
    "model = model.to(device)"
   ]
  },
  {
   "cell_type": "code",
   "execution_count": 11,
   "id": "a0052a9b-079c-4114-8a6c-260015f4ccfe",
   "metadata": {},
   "outputs": [],
   "source": [
    "criterion = nn.CrossEntropyLoss()\n",
    "optimizer = optim.Adam(model.fc.parameters(), lr=0.001)"
   ]
  },
  {
   "cell_type": "code",
   "execution_count": 12,
   "id": "354450ea-34a1-40f0-a0f6-4d3db29b12ba",
   "metadata": {},
   "outputs": [
    {
     "name": "stdout",
     "output_type": "stream",
     "text": [
      "Epoch 1/5, Loss: 0.3211, Acc: 0.8738\n",
      "Epoch 2/5, Loss: 0.1978, Acc: 0.9247\n",
      "Epoch 3/5, Loss: 0.1627, Acc: 0.9313\n",
      "Epoch 4/5, Loss: 0.1528, Acc: 0.9376\n",
      "Epoch 5/5, Loss: 0.1472, Acc: 0.9435\n"
     ]
    }
   ],
   "source": [
    "epochs = 5  # Try more epochs if dataset is large\n",
    "for epoch in range(epochs):\n",
    "    model.train()\n",
    "    running_loss, correct = 0.0, 0\n",
    "\n",
    "    for inputs, labels in train_loader:\n",
    "        inputs, labels = inputs.to(device), labels.to(device)\n",
    "\n",
    "        optimizer.zero_grad()\n",
    "        outputs = model(inputs)\n",
    "        loss = criterion(outputs, labels)\n",
    "        loss.backward()\n",
    "        optimizer.step()\n",
    "\n",
    "        running_loss += loss.item() * inputs.size(0)\n",
    "        _, preds = torch.max(outputs, 1)\n",
    "        correct += (preds == labels).sum().item()\n",
    "\n",
    "    epoch_loss = running_loss / len(train_data)\n",
    "    epoch_acc = correct / len(train_data)\n",
    "    print(f\"Epoch {epoch+1}/{epochs}, Loss: {epoch_loss:.4f}, Acc: {epoch_acc:.4f}\")"
   ]
  },
  {
   "cell_type": "code",
   "execution_count": 13,
   "id": "59893c85-0da4-4a99-8ac0-11a08efb1499",
   "metadata": {},
   "outputs": [
    {
     "name": "stdout",
     "output_type": "stream",
     "text": [
      "\n",
      "Test Loss: 0.0508, Test Accuracy: 97.85%\n"
     ]
    }
   ],
   "source": [
    "model.eval()\n",
    "test_correct, test_loss = 0, 0.0\n",
    "all_preds, all_labels = [], []\n",
    "\n",
    "with torch.no_grad():\n",
    "    for inputs, labels in test_loader:\n",
    "        inputs, labels = inputs.to(device), labels.to(device)\n",
    "        outputs = model(inputs)\n",
    "        loss = criterion(outputs, labels)\n",
    "        test_loss += loss.item() * inputs.size(0)\n",
    "        _, preds = torch.max(outputs, 1)\n",
    "\n",
    "        test_correct += (preds == labels).sum().item()\n",
    "        all_preds.extend(preds.cpu().numpy())\n",
    "        all_labels.extend(labels.cpu().numpy())\n",
    "\n",
    "test_loss /= len(test_data)\n",
    "test_acc = test_correct / len(test_data)\n",
    "print(f\"\\nTest Loss: {test_loss:.4f}, Test Accuracy: {test_acc*100:.2f}%\")"
   ]
  },
  {
   "cell_type": "code",
   "execution_count": 14,
   "id": "7ca2609d-2061-4f5f-8814-a77eaaaa50c5",
   "metadata": {},
   "outputs": [
    {
     "data": {
      "image/png": "[encoded data removed]",
      "text/plain": [
       "<Figure size 640x480 with 2 Axes>"
      ]
     },
     "metadata": {},
     "output_type": "display_data"
    }
   ],
   "source": [
    "cm = confusion_matrix(all_labels, all_preds)\n",
    "disp = ConfusionMatrixDisplay(confusion_matrix=cm, display_labels=class_names)\n",
    "disp.plot(cmap=\"Blues\")\n",
    "plt.title(\"Confusion Matrix\")\n",
    "plt.show()"
   ]
  },
  {
   "cell_type": "code",
   "execution_count": 15,
   "id": "cf404824-fbce-4405-8dff-7f0722e074ee",
   "metadata": {},
   "outputs": [],
   "source": [
    "def predict_image(image_path):\n",
    "    img = Image.open(image_path).convert(\"RGB\")\n",
    "    transform = test_transforms\n",
    "    img_tensor = transform(img).unsqueeze(0).to(device)\n",
    "\n",
    "    model.eval()\n",
    "    with torch.no_grad():\n",
    "        outputs = model(img_tensor)\n",
    "        _, pred = torch.max(outputs, 1)\n",
    "        prob = torch.softmax(outputs, dim=1)[0][pred].item() * 100\n",
    "\n",
    "    result = class_names[pred.item()]\n",
    "    print(f\"Prediction: {result} ({prob:.2f}% confidence)\")\n",
    "    return result"
   ]
  },
  {
   "cell_type": "code",
   "execution_count": 16,
   "id": "99482d8c-5405-4014-9a1f-3a78d6249245",
   "metadata": {},
   "outputs": [
    {
     "name": "stderr",
     "output_type": "stream",
     "text": [
      "<>:3: SyntaxWarning: invalid escape sequence '\\c'\n",
      "<>:3: SyntaxWarning: invalid escape sequence '\\c'\n",
      "C:\\Users\\admin\\AppData\\Local\\Temp\\ipykernel_25968\\1801683071.py:3: SyntaxWarning: invalid escape sequence '\\c'\n",
      "  predict_image(\"animals\\cats\\cats_00002.jpg\")\n"
     ]
    },
    {
     "name": "stdout",
     "output_type": "stream",
     "text": [
      "\n",
      "--- Example Prediction ---\n",
      "Prediction: cats (99.98% confidence)\n"
     ]
    },
    {
     "data": {
      "text/plain": [
       "'cats'"
      ]
     },
     "execution_count": 16,
     "metadata": {},
     "output_type": "execute_result"
    }
   ],
   "source": [
    "# Example usage (make sure this path exists!)\n",
    "print(\"\\n--- Example Prediction ---\")\n",
    "predict_image(\"animals\\cats\\cats_00002.jpg\")"
   ]
  }
 ],
 "metadata": {
  "kernelspec": {
   "display_name": "Python 3",
   "language": "python",
   "name": "python3"
  },
  "language_info": {
   "codemirror_mode": {
    "name": "ipython",
    "version": 3
   },
   "file_extension": ".py",
   "mimetype": "text/x-python",
   "name": "python",
   "nbconvert_exporter": "python",
   "pygments_lexer": "ipython3",
   "version": "3.13.5"
  }
 },
 "nbformat": 4,
 "nbformat_minor": 5
}
